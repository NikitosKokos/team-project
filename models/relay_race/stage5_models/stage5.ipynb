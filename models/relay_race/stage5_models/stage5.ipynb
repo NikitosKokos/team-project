{
 "cells": [
  {
   "cell_type": "markdown",
   "metadata": {},
   "source": [
    "there are will be if else and other logic in backend, no need in model for this stage"
   ]
  }
 ],
 "metadata": {
  "language_info": {
   "name": "python"
  }
 },
 "nbformat": 4,
 "nbformat_minor": 2
}
